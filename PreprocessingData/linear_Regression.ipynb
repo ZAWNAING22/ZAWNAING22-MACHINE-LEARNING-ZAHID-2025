{
 "cells": [
  {
   "cell_type": "code",
   "execution_count": 3,
   "id": "720e5655",
   "metadata": {},
   "outputs": [
    {
     "name": "stdout",
     "output_type": "stream",
     "text": [
      "Based on your study 8 here is predicted score:[100.]\n"
     ]
    }
   ],
   "source": [
    "from sklearn.linear_model import LinearRegression\n",
    "X=[[1],[2],[3],[4],[5]]\n",
    "y=[30,40,50,60,70]\n",
    "model=LinearRegression()\n",
    "model.fit(X,y)\n",
    "hours=int(input(\"enter you many hour you studies:\"))\n",
    "predicted_score=model.predict([[hours]])\n",
    "print(f\"Based on your study {hours} here is predicted score:{predicted_score}\")\n"
   ]
  },
  {
   "cell_type": "markdown",
   "id": "3323adba",
   "metadata": {},
   "source": [
    "## Logistic Regression"
   ]
  },
  {
   "cell_type": "code",
   "execution_count": null,
   "id": "7ca6d903-ab81-4cf6-95bb-d61604eb20e1",
   "metadata": {},
   "outputs": [],
   "source": [
    "from sklearn.linear_model import LogisticRegression\n",
    "X=[[1],[2],[3],[4],[5]]\n",
    "y=[0,0,1,1,1]\n",
    "model=LogisticRegression()\n",
    "model.fit(X,y)\n",
    "hours=float(input(\"enter you many hour you studies:\"))\n",
    "result=model.predict([[hours]])[0]\n",
    "if result==1:\n",
    "    print(f\"Based on your study:{hours}, you are likely to PASS:\")\n",
    "else:\n",
    "    print(f\"Based on your study:{hours}, you are likely to FAIL:\")\n",
    "\n"
   ]
  },
  {
   "cell_type": "markdown",
   "id": "84e044af-0fec-4834-a517-d0b159419d8a",
   "metadata": {},
   "source": [
    "## KNN Classification"
   ]
  },
  {
   "cell_type": "code",
   "execution_count": null,
   "id": "6477f892-b95f-4bfd-a8c5-382cfab3460c",
   "metadata": {},
   "outputs": [],
   "source": []
  }
 ],
 "metadata": {
  "kernelspec": {
   "display_name": "Python 3 (ipykernel)",
   "language": "python",
   "name": "python3"
  },
  "language_info": {
   "codemirror_mode": {
    "name": "ipython",
    "version": 3
   },
   "file_extension": ".py",
   "mimetype": "text/x-python",
   "name": "python",
   "nbconvert_exporter": "python",
   "pygments_lexer": "ipython3",
   "version": "3.13.5"
  }
 },
 "nbformat": 4,
 "nbformat_minor": 5
}
