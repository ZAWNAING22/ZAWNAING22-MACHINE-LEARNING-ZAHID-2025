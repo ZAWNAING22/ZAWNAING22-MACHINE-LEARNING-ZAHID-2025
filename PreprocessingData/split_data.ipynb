{
 "cells": [
  {
   "cell_type": "code",
   "execution_count": 30,
   "id": "6d551d2b",
   "metadata": {},
   "outputs": [],
   "source": [
    "import pandas as pd\n",
    "from sklearn.model_selection import train_test_split"
   ]
  },
  {
   "cell_type": "code",
   "execution_count": 31,
   "id": "68d42544",
   "metadata": {},
   "outputs": [],
   "source": [
    "data={\n",
    "    'study':[1,2,3,4,5],\n",
    "    'score':[11,22,33,44,55]\n",
    "}\n",
    "df=pd.DataFrame(data)\n",
    "X=df['study']\n",
    "y=df['score']"
   ]
  },
  {
   "cell_type": "code",
   "execution_count": 32,
   "id": "cb53ce96",
   "metadata": {},
   "outputs": [],
   "source": [
    "X_train,X_test,y_train,y_test=train_test_split(X,y,test_size=0.2,random_state=42)"
   ]
  },
  {
   "cell_type": "code",
   "execution_count": 33,
   "id": "83693e5c",
   "metadata": {},
   "outputs": [
    {
     "name": "stdout",
     "output_type": "stream",
     "text": [
      "training data\n",
      "4    5\n",
      "2    3\n",
      "0    1\n",
      "3    4\n",
      "Name: study, dtype: int64\n",
      "4    55\n",
      "2    33\n",
      "0    11\n",
      "3    44\n",
      "Name: score, dtype: int64\n",
      "\n",
      "data for testing\n",
      "1    2\n",
      "Name: study, dtype: int64\n",
      "1    22\n",
      "Name: score, dtype: int64\n"
     ]
    }
   ],
   "source": [
    "print(\"training data\")\n",
    "print(X_train)\n",
    "print(y_train)\n",
    "print(\"\\ndata for testing\")\n",
    "print(X_test)\n",
    "print(y_test)"
   ]
  },
  {
   "cell_type": "code",
   "execution_count": null,
   "id": "ca0f38eb",
   "metadata": {},
   "outputs": [],
   "source": []
  }
 ],
 "metadata": {
  "kernelspec": {
   "display_name": "Python 3",
   "language": "python",
   "name": "python3"
  },
  "language_info": {
   "codemirror_mode": {
    "name": "ipython",
    "version": 3
   },
   "file_extension": ".py",
   "mimetype": "text/x-python",
   "name": "python",
   "nbconvert_exporter": "python",
   "pygments_lexer": "ipython3",
   "version": "3.13.5"
  }
 },
 "nbformat": 4,
 "nbformat_minor": 5
}
