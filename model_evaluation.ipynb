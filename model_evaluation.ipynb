{
 "cells": [
  {
   "cell_type": "markdown",
   "id": "d01c0cbc",
   "metadata": {},
   "source": [
    "## Classification Metric"
   ]
  },
  {
   "cell_type": "code",
   "execution_count": null,
   "id": "424a31ec",
   "metadata": {},
   "outputs": [],
   "source": [
    "from sklearn.metrics import accuracy_score,precision_score,recall_score,f1_score\n",
    "\n",
    "#ture Answers(what actually happened)\n",
    "y_ture=[1,0,1,1,0,1,0]\n",
    "#Model's prediction(what it guessed)\n",
    "y_pred=[1,0,1,0,0,1,1]\n",
    "\n",
    "#evaluation\n",
    "print(f\"accuracy_score:{'':<5}{(accuracy_score(y_ture,y_pred)*100):.2f} %\")\n",
    "print(\"precision_score:\",precision_score(y_ture,y_pred))\n",
    "print(\"recall_score:\",recall_score(y_ture,y_pred))\n",
    "print(\"f1_score:\",f1_score(y_ture,y_pred))"
   ]
  },
  {
   "cell_type": "markdown",
   "id": "07bc7957",
   "metadata": {},
   "source": [
    "## Confusion Matrix"
   ]
  },
  {
   "cell_type": "code",
   "execution_count": null,
   "id": "0f824c08",
   "metadata": {},
   "outputs": [],
   "source": [
    "from sklearn.metrics import confusion_matrix\n",
    "\n",
    "y_true=[1,0,1,1,0,1,0,0,1,0]\n",
    "y_pred=[1,0,1,0,0,1,1,0,1,0]\n",
    "\n",
    "cm=confusion_matrix(y_true,y_pred)\n",
    "\n",
    "print(\"confusion Matrix:\\n [TN,FP]  \\n [FN,TP]\\n \\n\", cm)"
   ]
  },
  {
   "cell_type": "markdown",
   "id": "635cc1f6",
   "metadata": {},
   "source": [
    "## Regression Metrics"
   ]
  },
  {
   "cell_type": "code",
   "execution_count": 7,
   "id": "5759bc25",
   "metadata": {},
   "outputs": [
    {
     "name": "stdout",
     "output_type": "stream",
     "text": [
      "MAE:on average of by: 7.5\n",
      "MSE:squared mistake value: 62.5\n",
      "RMSE:Final realistic error: 7.905694150420948\n"
     ]
    }
   ],
   "source": [
    "from sklearn.metrics import mean_absolute_error,mean_squared_error\n",
    "import numpy as np\n",
    "\n",
    "#real scores\n",
    "real_score=[90,60,80,100]\n",
    "#model predicted score\n",
    "pred_score=[85,70,70,95]\n",
    "\n",
    "mae=mean_absolute_error(real_score,pred_score)\n",
    "mse=mean_squared_error(real_score,pred_score)\n",
    "rmse=np.sqrt(mse)\n",
    "\n",
    "print(\"MAE:on average of by:\",mae)\n",
    "print(\"MSE:squared mistake value:\",mse)\n",
    "print(\"RMSE:Final realistic error:\", rmse)"
   ]
  },
  {
   "cell_type": "code",
   "execution_count": null,
   "id": "08cb6873",
   "metadata": {},
   "outputs": [],
   "source": []
  }
 ],
 "metadata": {
  "kernelspec": {
   "display_name": "Python 3",
   "language": "python",
   "name": "python3"
  },
  "language_info": {
   "codemirror_mode": {
    "name": "ipython",
    "version": 3
   },
   "file_extension": ".py",
   "mimetype": "text/x-python",
   "name": "python",
   "nbconvert_exporter": "python",
   "pygments_lexer": "ipython3",
   "version": "3.13.5"
  }
 },
 "nbformat": 4,
 "nbformat_minor": 5
}
