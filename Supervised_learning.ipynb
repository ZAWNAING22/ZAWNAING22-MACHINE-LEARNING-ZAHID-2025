{
 "cells": [
  {
   "cell_type": "markdown",
   "id": "9e154723",
   "metadata": {},
   "source": [
    "## Linear Regression"
   ]
  },
  {
   "cell_type": "code",
   "execution_count": null,
   "id": "720e5655",
   "metadata": {},
   "outputs": [],
   "source": [
    "from sklearn.linear_model import LinearRegression\n",
    "X=[[1],[2],[3],[4],[5]]\n",
    "y=[30,40,50,60,70]\n",
    "model=LinearRegression()\n",
    "model.fit(X,y)\n",
    "hours=int(input(\"enter you many hour you studies:\"))\n",
    "predicted_score=model.predict([[hours]])\n",
    "print(f\"Based on your study {hours} here is predicted score:{predicted_score}\")\n"
   ]
  },
  {
   "cell_type": "markdown",
   "id": "3323adba",
   "metadata": {},
   "source": [
    "## Logistic Regression"
   ]
  },
  {
   "cell_type": "code",
   "execution_count": 1,
   "id": "c61c3261",
   "metadata": {},
   "outputs": [
    {
     "name": "stdout",
     "output_type": "stream",
     "text": [
      "Based on your study:4.0, you are likely to PASS:\n"
     ]
    }
   ],
   "source": [
    "from sklearn.linear_model import LogisticRegression\n",
    "X=[[1],[2],[3],[4],[5]]\n",
    "y=[0,0,1,1,1]\n",
    "model=LogisticRegression()\n",
    "model.fit(X,y)\n",
    "hours=float(input(\"enter you many hour you studies:\"))\n",
    "result=model.predict([[hours]])[0]\n",
    "if result==1:\n",
    "    print(f\"Based on your study:{hours}, you are likely to PASS:\")\n",
    "else:\n",
    "    print(f\"Based on your study:{hours}, you are likely to FAIL:\")\n",
    "\n"
   ]
  },
  {
   "cell_type": "markdown",
   "id": "807efc62",
   "metadata": {},
   "source": [
    "## CNN CLASSIFICATION"
   ]
  },
  {
   "cell_type": "code",
   "execution_count": 5,
   "id": "1363d43c",
   "metadata": {},
   "outputs": [
    {
     "name": "stdout",
     "output_type": "stream",
     "text": [
      "<class 'numpy.int64'>\n",
      "1\n",
      "this is likely an orange:\n"
     ]
    }
   ],
   "source": [
    "from sklearn.neighbors import KNeighborsClassifier\n",
    "#weigt & size\n",
    "X=[\n",
    "    [180,7  ],\n",
    "    [200,7.5],\n",
    "    [250,8  ],\n",
    "    [300,8.5],\n",
    "    [330,9  ],\n",
    "    [360,9.1]\n",
    "]\n",
    "#apple=0 and orange=1\n",
    "y=[0,0,0,1,1,1]\n",
    "model=KNeighborsClassifier()\n",
    "model.fit(X,y)\n",
    "weight=float(input(\"enter weight in gram:\"))\n",
    "size=float(input(\"enter size in cm:\"))\n",
    "prediction=model.predict([[weight,size]])[0]\n",
    " #without [0] it returns box[]\n",
    "print(type(prediction))\n",
    "print(prediction)\n",
    "\n",
    "if prediction==1:\n",
    "    print(\"this is likely an orange:\")\n",
    "else:\n",
    "    print(\"this is likely an apple\")\n",
    "\n",
    "\n"
   ]
  },
  {
   "cell_type": "markdown",
   "id": "ad483b6d",
   "metadata": {},
   "source": [
    "## DecisionTree Classification\n"
   ]
  },
  {
   "cell_type": "code",
   "execution_count": 8,
   "id": "31cde044",
   "metadata": {},
   "outputs": [
    {
     "name": "stdout",
     "output_type": "stream",
     "text": [
      "this is likely an orange\n"
     ]
    }
   ],
   "source": [
    "from sklearn.tree import DecisionTreeClassifier\n",
    "#Size and color shade\n",
    "X=[\n",
    "    [5,2] ,#apple\n",
    "    [4,3], #apple\n",
    "    [5,4], #apple\n",
    "    [7,9], #Orange\n",
    "    [9,8],#orange\n",
    "    [10,7] #orange\n",
    "]\n",
    "y=[0,0,0,1,1,1] #0=apple and 1=orange\n",
    "\n",
    "model=DecisionTreeClassifier()\n",
    "model.fit(X,y)\n",
    "size=float(input(\"enter size in cm:\"))\n",
    "shade=float(input(\"enter color shade in (1-10):\"))\n",
    "\n",
    "result=model.predict([[size,shade]])[0]\n",
    "\n",
    "if result==0:\n",
    "    print(\"this is likely an apple\")\n",
    "else:\n",
    "    print(\"this is likely an orange\")\n"
   ]
  },
  {
   "cell_type": "code",
   "execution_count": null,
   "id": "8397269e",
   "metadata": {},
   "outputs": [],
   "source": []
  }
 ],
 "metadata": {
  "kernelspec": {
   "display_name": "Python 3",
   "language": "python",
   "name": "python3"
  },
  "language_info": {
   "codemirror_mode": {
    "name": "ipython",
    "version": 3
   },
   "file_extension": ".py",
   "mimetype": "text/x-python",
   "name": "python",
   "nbconvert_exporter": "python",
   "pygments_lexer": "ipython3",
   "version": "3.13.5"
  }
 },
 "nbformat": 4,
 "nbformat_minor": 5
}
